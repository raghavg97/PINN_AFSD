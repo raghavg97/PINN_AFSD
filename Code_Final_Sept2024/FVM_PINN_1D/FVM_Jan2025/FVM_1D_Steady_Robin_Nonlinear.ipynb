{
 "cells": [
  {
   "cell_type": "code",
   "execution_count": 1,
   "metadata": {},
   "outputs": [],
   "source": [
    "import numpy as np\n",
    "import time"
   ]
  },
  {
   "cell_type": "code",
   "execution_count": 2,
   "metadata": {},
   "outputs": [],
   "source": [
    "c = 0.05 #Convection coefficient\n",
    "T_a = 300.0 #Ambient temperature\n",
    "k = 0.01 #Thermal conductivity\n",
    "\n",
    "def Q(T):\n",
    "    return -10 -10*np.abs(np.sin(T/10))\n",
    "\n"
   ]
  },
  {
   "cell_type": "code",
   "execution_count": 3,
   "metadata": {},
   "outputs": [],
   "source": [
    "T_left = T_a\n",
    "\n",
    "n = 200 #Number of cells\n",
    "\n",
    "T = 400*np.ones((n+1,),dtype='double') #Temperature of the cells; 1 additional cell for the robin boundary condition\n",
    "\n",
    "del_x = 1/n #Length of each cell\n",
    "\n"
   ]
  },
  {
   "cell_type": "code",
   "execution_count": 4,
   "metadata": {},
   "outputs": [],
   "source": [
    "iters = 0\n",
    "eps = 100 #initializing eps to a large value\n",
    "\n",
    "while eps > 1e-2:\n",
    "\n",
    "    T_old = T.copy()\n",
    "\n",
    "    T[0] = (T[1] + 2*T_left - Q(T[0])*(del_x**2)/ k) / 3\n",
    "    T[n-1] = c*(T[n] - T_a)*del_x + T[n-2] - (Q(T[n-1])/k)* (del_x**2)\n",
    "\n",
    "    T[n] = (c*T_a - 2*T[n-1]/del_x)/(c - 2/del_x)\n",
    "    T[1:n-1] = (T[0:n-2] + T[2:n])/2 - Q(T[1:n-1])*(del_x**2)/(2*k)\n",
    "\n",
    "    # T_new = T.copy()\n",
    "    eps = np.max(np.abs(T_old - T))\n",
    "\n",
    "    # print(eps)\n",
    "\n",
    "    iters += 1"
   ]
  },
  {
   "cell_type": "code",
   "execution_count": 7,
   "metadata": {},
   "outputs": [
    {
     "data": {
      "text/plain": [
       "820.3138932238156"
      ]
     },
     "execution_count": 7,
     "metadata": {},
     "output_type": "execute_result"
    }
   ],
   "source": [
    "T[n]"
   ]
  }
 ],
 "metadata": {
  "kernelspec": {
   "display_name": "raghav",
   "language": "python",
   "name": "python3"
  },
  "language_info": {
   "codemirror_mode": {
    "name": "ipython",
    "version": 3
   },
   "file_extension": ".py",
   "mimetype": "text/x-python",
   "name": "python",
   "nbconvert_exporter": "python",
   "pygments_lexer": "ipython3",
   "version": "3.9.16"
  }
 },
 "nbformat": 4,
 "nbformat_minor": 2
}
