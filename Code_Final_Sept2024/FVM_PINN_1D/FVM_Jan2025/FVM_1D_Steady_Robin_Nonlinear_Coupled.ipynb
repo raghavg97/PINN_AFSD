{
 "cells": [
  {
   "cell_type": "code",
   "execution_count": 1,
   "metadata": {},
   "outputs": [],
   "source": [
    "import numpy as np\n",
    "import time\n",
    "import matplotlib.pyplot as plt"
   ]
  },
  {
   "cell_type": "markdown",
   "metadata": {},
   "source": [
    "**FVM Coupled - Steady State 1D - The source term is the only coupling!**\n",
    "\n",
    "$$ \\alpha \\frac{d^2T}{dx^2} - Q(C) =0 \\,\\, \\forall x \\in [0,1]$$ \n",
    "$$  \\beta \\frac{d^2C}{dx^2} - S(T) = 0 \\,\\, \\forall x \\in [0,1] $$\n",
    "\n",
    "Consider typical values of $T$ to be 300K to thousands range. \n",
    "Consider typical values of $C$ to be 0 to 10 or so. \n",
    "\n",
    "Decide constants $c_1$ and $c_2$ appropriately.\n",
    "\n",
    "$$ S(T) = c_1 (- 1 - 1|\\sin(\\frac{T}{10})|) $$\n",
    "$$ Q(C) = c_2 (- 10|\\cos(C)|) $$\n",
    "\n",
    "\n",
    "*Two Robin Boundary conditions for T* (Ambient Temperature can be 300)\n",
    "$$\\frac{dT}{dx}|_{x=0} =-h_c(T(x) - T_a); \\frac{dT}{dx}|_{x=1} = h_c (T(x) - T_a) $$\n",
    "\n",
    "*Two Dirichlet Boundary conditions for C*\n",
    "$$C(x=0) = 0; C(x=1) = 2$$"
   ]
  },
  {
   "cell_type": "code",
   "execution_count": 2,
   "metadata": {},
   "outputs": [],
   "source": [
    "c_1 = 0.5 \n",
    "c_2 = 10\n",
    "\n",
    "h_c = 0.05\n",
    "T_a = 300\n",
    "\n",
    "alpha = 0.01\n",
    "beta = 0.01\n",
    "\n",
    "C_left = 0\n",
    "C_right = 2\n",
    "\n",
    "\n",
    "def S(T):\n",
    "    return c_1*(-np.abs(np.sin(T)))\n",
    "\n",
    "def Q(C):\n",
    "    return c_2*(-1 + -1*np.abs(np.cos(C)))"
   ]
  },
  {
   "cell_type": "markdown",
   "metadata": {},
   "source": [
    "**Left Robin FVM Derivation** (part of the content is on another file from Work_PC branch) - Implementation leads to entirely different results at different mesh sizes- not even shapewise similar\n",
    "\n",
    "Important: For the left end cell, there should be a negative sign! (I think) $\\frac{dT}{dx} = - h(T_{left} - T_a) $\n",
    "\n",
    "Eq.(2) basically implies\n",
    "\n",
    "$$f'(x_0) = \\frac{f(x_0) - f(x_0 - h)}{h}$$\n",
    "\n",
    "For the cell at left end, \n",
    "$$ \\frac{dT}{dx}|_w = \\frac{T_1 - T_{left}}{\\frac{\\Delta x}{2}} $$\n"
   ]
  },
  {
   "cell_type": "markdown",
   "metadata": {},
   "source": [
    "The above equation leads to \n",
    "\n",
    "$$ \\implies -h_c(T_{left} - T_a) = \\frac{T_1 - T_{left}}{\\frac{\\Delta x}{2}}  $$\n",
    "\n",
    "$$ T_{left} (\\frac{2}{\\Delta x} - h) = -h_cT_a + \\frac{2T_1}{\\Delta x}$$\n",
    "\n",
    "$$ \\implies T_{left} = \\frac{(-h_cT_a + \\frac{2T_1}{\\Delta x})}{(\\frac{2}{\\Delta x} - h_c)}"
   ]
  },
  {
   "cell_type": "markdown",
   "metadata": {},
   "source": [
    "Further, From Eq.(1)\n",
    "\n",
    "$$ k(\\frac{dT}{dx}|_e - (-h_c(T_{left} - T_a)) ) - Q \\Delta x = 0$$\n",
    "\n",
    "$$\\frac{dT}{dx}|_e  = \\frac{T_2 - T_1}{2h}$$\n",
    "\n",
    "Considering $h = \\frac{\\Delta x}{2}$,\n",
    "\n",
    "$$ k(\\frac{T_2 - T_1}{\\Delta x} + h_c(T_{left} - T_a) ) - Q \\Delta x = 0$$\n",
    "\n",
    "$$ T_1 = T_2 + h_c(T_{left} - T_a) \\Delta x - \\frac{Q (\\Delta x)^2}{k}$$"
   ]
  },
  {
   "cell_type": "code",
   "execution_count": 3,
   "metadata": {},
   "outputs": [],
   "source": [
    "T_left = T_a\n",
    "n = 2000 #Number of cells\n",
    "\n",
    "# T = 100*np.ones((n+2,),dtype='double') #Temperature of the cells; 2 additional cells for the two robin boundary conditions\n",
    "T = 100*np.ones((n+1,),dtype='double')\n",
    "C = np.ones((n,),dtype='double')\n",
    " \n",
    "del_x = 1/n #Length of each cell\n",
    "\n"
   ]
  },
  {
   "cell_type": "code",
   "execution_count": 4,
   "metadata": {},
   "outputs": [],
   "source": [
    "iters = 0\n",
    "eps_T = 50 #initializing eps to a large value\n",
    "eps_C = 50 #initializing eps to a large value\n",
    "tol_T = 1e-4\n",
    "tol_C = 1e-5\n",
    "\n",
    "while (eps_T > tol_T or eps_C > tol_C):\n",
    "\n",
    "    #T_update\n",
    "    T_old = T.copy()\n",
    "\n",
    "    T[0] = (T[1] + 2*T_left - Q(C[0])*(del_x**2)/ alpha) / 3\n",
    "    T[n-1] = h_c*(T[n] - T_a)*del_x + T[n-2] - (Q(C[n-1])/alpha)* (del_x**2)\n",
    "\n",
    "    T[n] = (h_c*T_a - 2*T[n-1]/del_x)/(h_c - 2/del_x)\n",
    "    T[1:n-1] = (T[0:n-2] + T[2:n])/2 - Q(C[1:n-1])*(del_x**2)/(2*alpha)\n",
    "\n",
    "\n",
    "    \n",
    "    # T[1] = T[2] + h_c*(T[0] - T_a)*del_x - Q(C[0])*(del_x**2)/ alpha\n",
    "    # T[0] = (2*T[1]/del_x - h_c*T_a)/(2/del_x - h_c) #T[0] is calculated using the left robin boundary condition\n",
    "    \n",
    "    # T[n] = h_c*(T[n+1] - T_a)*del_x + T[n-1] - (Q(C[n-1])/alpha)* (del_x**2) #T[n+1] is calculated using the right robin boundary condition\n",
    "    # T[n+1] = (h_c*T_a - 2*T[n]/del_x)/(h_c - 2/del_x)\n",
    "\n",
    "    # T[2:n] = (T[1:n-1] + T[3:n+1])/2 - Q(C[1:n-1])*(del_x**2)/(2*alpha) #This is all the central cells\n",
    "\n",
    "    #C_update\n",
    "    C_old = C.copy()\n",
    "\n",
    "    C[0] = (C[1] + 2*C_left - S(T[0])*(del_x**2)/beta)/3\n",
    "    C[n-1] = (2*C_right + C[n-2] - S(T[n-1])*(del_x**2)/beta)/3\n",
    "    C[1:n-1] = (C[2:n] + C[0:n-2])/2 - S(T[1:n-1])*(del_x**2)/(2*beta) \n",
    "\n",
    "    # C[0] = (C[1] + 2*C_left - S(T[1])*(del_x**2)/beta)/3\n",
    "    # C[n-1] = (2*C_right + C[n-2] - S(T[n])*(del_x**2)/beta)/3\n",
    "    # C[1:n-1] = (C[2:n] + C[0:n-2])/2 - S(T[2:n])*(del_x**2)/(2*beta) \n",
    "\n",
    "\n",
    "    # T_new = T.copy()\n",
    "    eps_T = np.max(np.abs(T_old - T))\n",
    "    eps_C = np.max(np.abs(C_old - C))\n",
    "    # print(eps)\n",
    "\n",
    "    iters += 1"
   ]
  },
  {
   "cell_type": "code",
   "execution_count": 5,
   "metadata": {},
   "outputs": [
    {
     "name": "stdout",
     "output_type": "stream",
     "text": [
      "3565658\n",
      "9.999996416354406e-05\n",
      "5.516917251924269e-07\n"
     ]
    }
   ],
   "source": [
    "print(iters)\n",
    "print(eps_T)\n",
    "print(eps_C)"
   ]
  },
  {
   "cell_type": "code",
   "execution_count": 6,
   "metadata": {},
   "outputs": [
    {
     "data": {
      "text/plain": [
       "[<matplotlib.lines.Line2D at 0x7fa68a02c670>]"
      ]
     },
     "execution_count": 6,
     "metadata": {},
     "output_type": "execute_result"
    },
    {
     "data": {
      "image/png": "[encoded data removed]",
      "text/plain": [
       "<Figure size 640x480 with 1 Axes>"
      ]
     },
     "metadata": {},
     "output_type": "display_data"
    }
   ],
   "source": [
    "plt.plot(C)"
   ]
  },
  {
   "cell_type": "code",
   "execution_count": 7,
   "metadata": {},
   "outputs": [
    {
     "data": {
      "text/plain": [
       "[<matplotlib.lines.Line2D at 0x7fa689ffc190>]"
      ]
     },
     "execution_count": 7,
     "metadata": {},
     "output_type": "execute_result"
    },
    {
     "data": {
      "image/png": "[encoded data removed]",
      "text/plain": [
       "<Figure size 640x480 with 1 Axes>"
      ]
     },
     "metadata": {},
     "output_type": "display_data"
    }
   ],
   "source": [
    "plt.plot(T)\n",
    "# plt.plot(C)"
   ]
  }
 ],
 "metadata": {
  "kernelspec": {
   "display_name": "raghav",
   "language": "python",
   "name": "python3"
  },
  "language_info": {
   "codemirror_mode": {
    "name": "ipython",
    "version": 3
   },
   "file_extension": ".py",
   "mimetype": "text/x-python",
   "name": "python",
   "nbconvert_exporter": "python",
   "pygments_lexer": "ipython3",
   "version": "3.9.16"
  }
 },
 "nbformat": 4,
 "nbformat_minor": 2
}
