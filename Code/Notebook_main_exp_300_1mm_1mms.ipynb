{
 "cells": [
  {
   "cell_type": "code",
   "execution_count": 1,
   "id": "be7e8113-fc6b-42be-9a3c-685830458daa",
   "metadata": {},
   "outputs": [
    {
     "name": "stdout",
     "output_type": "stream",
     "text": [
      "Device 1:  cpu\n",
      "Device 2:  cpu\n"
     ]
    }
   ],
   "source": [
    "import torch\n",
    "import torch.autograd as autograd         # computation graph\n",
    "from torch import Tensor                  # tensor node in the computation graph\n",
    "import torch.nn as nn                     # neural networks\n",
    "import torch.optim as optim               # optimizers e.g. gradient descent, ADAM, etc.\n",
    "from torch.nn.parameter import Parameter\n",
    "\n",
    "import matplotlib.pyplot as plt\n",
    "import matplotlib.gridspec as gridspec\n",
    "from mpl_toolkits.axes_grid1 import make_axes_locatable\n",
    "from mpl_toolkits.mplot3d import Axes3D\n",
    "import matplotlib.ticker\n",
    "\n",
    "\n",
    "import numpy as np\n",
    "import time\n",
    "# from pyDOE import lhs         #Latin Hypercube Sampling\n",
    "import scipy.io\n",
    "\n",
    "from smt.sampling_methods import LHS\n",
    "from scipy.io import loadmat,savemat\n",
    "\n",
    "\n",
    "\n",
    "\n",
    "#Set default dtype to float32\n",
    "torch.set_default_dtype(torch.float)\n",
    "\n",
    "#PyTorch random number generator\n",
    "torch.manual_seed(1234)\n",
    "\n",
    "# Random number generators in other libraries\n",
    "np.random.seed(1234)\n",
    "\n",
    "# Device configuration\n",
    "# device1 = torch.device('cuda:2' if torch.cuda.is_available() else 'cpu')\n",
    "# device2 = torch.device('cuda:3' if torch.cuda.is_available() else 'cpu')\n",
    "\n",
    "device1 = 'cpu'\n",
    "device2 = 'cpu'\n",
    "\n",
    "print(\"Device 1: \",device1)\n",
    "print(\"Device 2: \",device2)"
   ]
  },
  {
   "cell_type": "code",
   "execution_count": 2,
   "id": "e12c536f-3169-48e3-82a1-915d437b21ba",
   "metadata": {},
   "outputs": [],
   "source": [
    "R0 = 5.34 #mm 5.34\n",
    "Rs = 19 #mm\n",
    "mu_vis = 0.3 \n",
    "mu = 0.3 #Friction Coefficient (not viscosity)\n",
    "delta = 0.5\n",
    "A = 6.41 #For slip factor\n",
    "pi = np.pi\n",
    "Omega = 300 #rpm\n",
    "V = 1 #mm/s\n",
    "F = 0.67 #mm\n",
    "rho = 2700 * 1e-6 #g/mm3\n",
    "k_B = 1.380649*1e-23 #J/K\n",
    "R = 8.314 #J/(K.mol)\n",
    "E_a = 205000 #J/mol #Q\n",
    "alpha_sig = 52 #mm^2/N\n",
    "# A = np.exp(27.78)\n",
    "log_A = 27.78\n",
    "n = 3.49\n",
    "k = 0.167 #Thermal Conductivity #W/(mmK)\n",
    "c_p = 0.897 #J/gK \n",
    "alpha_m = k/(rho*c_p)\n",
    "T_a = 298.0\n",
    "\n",
    "\n",
    "k_t = 0.0176 #W/(mmK)\n",
    "c_p_t = 0.46 #J/gk\n",
    "rho_t = 2700 * 1e-6 #g/mm3\n",
    "alpha_t = k_t/(rho_t*c_p_t)\n",
    "\n",
    "h_sides = 5*1e-6 #W/mm^2K\n",
    "C_bot = 0.15*1e-6 #W/mm^2K^3\n",
    "\n",
    "eeta = alpha_m/(alpha_m+alpha_t)\n",
    "\n",
    "lb_xyz_uvw = np.array([-20.0,-20.0,-1.0])\n",
    "ub_xyz_uvw = np.array([20.0,20.0,0.0])\n",
    "\n",
    "\n",
    "lb_xyz = np.array([-20.0,-20.0,-1.0])\n",
    "ub_xyz = np.array([20.0,20.0,0.0])\n",
    "\n"
   ]
  },
  {
   "cell_type": "code",
   "execution_count": 3,
   "id": "cb877af0-8a4e-4628-b94d-de92a0d130bb",
   "metadata": {},
   "outputs": [],
   "source": [
    "def train_step(xyz_coll,xyz_1, xyz_2, xyz_3, xyz_4,xyz_top,xyz_bot,f_hat,N_hat,uvw_true_top,r_fr_ph_out):\n",
    "    # def closure():\n",
    "    optimizer.zero_grad()\n",
    "    #model_PINN.zero_grad()\n",
    "    loss_uvw,loss_T = model_PINN.loss(xyz_coll,xyz_1, xyz_2, xyz_3, xyz_4,xyz_top,xyz_bot,f_hat,N_hat,uvw_true_top,r_fr_ph_out)\n",
    "    loss_uvw.backward()\n",
    "    loss_T.backward()\n",
    "\n",
    "        # return loss\n",
    "\n",
    "    optimizer.step()"
   ]
  },
  {
   "cell_type": "code",
   "execution_count": 4,
   "id": "5478b554-59b5-4825-95bb-acf6c27211d7",
   "metadata": {},
   "outputs": [],
   "source": [
    "def train_model(max_iter,rep,n_batches):\n",
    "    print(rep)\n",
    "    torch.manual_seed(rep*123)\n",
    "    start_time = time.time()\n",
    "    thresh_flag = 0\n",
    "\n",
    "    xyz_coll,xyz_1, xyz_2, xyz_3, xyz_4,xyz_top,xyz_bot, uvw_true_top,r_fr_ph_out = trainingdata_uvw(N_B,N_f,lb_xyz,ub_xyz,rep*123)\n",
    "    xyz_coll = torch.from_numpy(xyz_coll).float()#.to(device)\n",
    "    xyz_1 = torch.from_numpy(xyz_1).float()#.to(device)\n",
    "    xyz_2 = torch.from_numpy(xyz_2).float()#.to(device)\n",
    "    xyz_3 = torch.from_numpy(xyz_3).float()#.to(device)\n",
    "    xyz_4 = torch.from_numpy(xyz_4).float()#.to(device)\n",
    "    r_fr_ph_out = torch.from_numpy(r_fr_ph_out).float()\n",
    "    \n",
    "    xyz_top = torch.from_numpy(xyz_top).float()#.to(device)\n",
    "    xyz_bot = torch.from_numpy(xyz_bot).float()#.to(device)\n",
    "   \n",
    "    uvw_true_top = torch.from_numpy(uvw_true_top).float().to(device1)\n",
    "    f_hat = torch.zeros(xyz_coll.shape[0],1)#.to(device1)\n",
    "    N_hat = torch.zeros(xyz_top.shape[0],1).to(device2)\n",
    "    \n",
    "\n",
    "    #pretrain\n",
    "    # for i in range(50):\n",
    "    #     optimizer.zero_grad()\n",
    "    #     loss_pretrain = model_PINN.pretrain_T_loss(xyz_coll)\n",
    "    #     loss_pretrain.backward()\n",
    "    #     optimizer.step()\n",
    "        \n",
    "    # print(\"Pretrained with T = 300.0\")\n",
    "    \n",
    "    #Batching only Collocation and f_hat for now\n",
    "    \n",
    "    # batch_size_coll = int(xyz_coll.shape[0]/n_batches)\n",
    "    # batch_size_top = int(xyz_top.shape[0]/n_batches)\n",
    "\n",
    "    # batch_size_sides = int(xyz_1.shape[0]/n_batches)\n",
    "    # batch_size_bot = int(xyz_bot.shape[0]/n_batches)\n",
    "\n",
    "    # xyz_coll_batches = torch.split(xyz_coll,batch_size_coll)\n",
    "    # f_hat_batches = torch.split(f_hat,batch_size_coll)\n",
    "    \n",
    "    # xyz_top_batches = torch.split(xyz_top,batch_size_top)\n",
    "    # N_hat_batches = torch.split(N_hat,batch_size_top)\n",
    "\n",
    "    # xyz_1_batches = torch.split(xyz_1,batch_size_sides)\n",
    "    # xyz_2_batches = torch.split(xyz_2,batch_size_sides)\n",
    "    # xyz_3_batches = torch.split(xyz_3,batch_size_sides)\n",
    "    # xyz_4_batches = torch.split(xyz_4,batch_size_sides)\n",
    "    \n",
    "    # xyz_bot_batches = torch.split(xyz_4,batch_size_bot)\n",
    "\n",
    "    # uvw_true_top_batches = torch.split(uvw_true_top,batch_size_top)\n",
    "    # r_fr_ph_out_batches = torch.split(r_fr_ph_out,batch_size_top)\n",
    "    \n",
    "\n",
    "\n",
    "    \n",
    "    for i in range(max_iter):\n",
    "#         if(i>0 and i%50==0):\n",
    "#             _,_,_,_,_,xyz_top,xyz_bot = trainingdata(N_B,N_f,i*123)\n",
    "#             # xyz_coll = torch.from_numpy(xyz_coll).float().to(device)\n",
    "#             # xyz_1 = torch.from_numpy(xyz_1).float().to(device)\n",
    "#             # xyz_2 = torch.from_numpy(xyz_2).float().to(device)\n",
    "#             # xyz_3 = torch.from_numpy(xyz_3).float().to(device)\n",
    "#             # xyz_4 = torch.from_numpy(xyz_4).float().to(device)\n",
    "\n",
    "#             xyz_top = torch.from_numpy(xyz_top).float().to(device)\n",
    "#             xyz_bot = torch.from_numpy(xyz_bot).float().to(device)\n",
    "\n",
    "        # optimizer.zero_grad()\n",
    "        # for b in range(n_batches):\n",
    "        #     loss_uvw,loss_T = model_PINN.loss(xyz_coll,xyz_1, xyz_2, xyz_3, xyz_4,xyz_top,xyz_bot,f_hat,N_hat,uvw_true_top,r_fr_ph_out)\n",
    "        #     loss_uvw.backward()\n",
    "        #     loss_T.backward()\n",
    "\n",
    "        # optimizer.step()\n",
    "        \n",
    "        # train_step(xyz_coll_batches[b],xyz_1_batches[b], xyz_2_batches[b], xyz_3_batches[b], xyz_4_batches[b],xyz_top_batches[b],xyz_bot_batches[b],f_hat_batches[b],N_hat_batches[b],uvw_true_top_batches[b],r_fr_ph_out_batches[b])\n",
    "            \n",
    "\n",
    "        train_step(xyz_coll,xyz_1, xyz_2, xyz_3, xyz_4,xyz_top,xyz_bot,f_hat,N_hat,uvw_true_top,r_fr_ph_out)\n",
    "        # loss_np = PINN.loss(xyz_coll,xyz_1, xyz_2, xyz_3, xyz_4,xyz_top,xyz_bot,f_hat,N_hat).cpu().detach().numpy()\n",
    "        # print(i,\"Train Loss\",train_loss[-1],\"Test MSE\",test_mse_loss[-1],\"Test RE\",test_re_loss[-1])\n",
    "        loss_np1,loss_np2 = model_PINN.loss(xyz_coll,xyz_1, xyz_2, xyz_3, xyz_4,xyz_top,xyz_bot,f_hat,N_hat,uvw_true_top,r_fr_ph_out)\n",
    "        print(i,\"Train Loss\",loss_np1.cpu().detach().numpy() + loss_np2.cpu().detach().numpy())\n",
    "\n",
    "        # if(i>0 and i%25 ==0):\n",
    "        #   pretrain(xyt_DBC,p_iters)\n",
    "\n",
    "\n",
    "    elapsed_time[rep] = time.time() - start_time\n",
    "    print('Training time: %.2f' % (elapsed_time[rep]))"
   ]
  },
  {
   "cell_type": "code",
   "execution_count": 5,
   "id": "5b5a6e4a-7ebc-437a-a707-0b7256025237",
   "metadata": {},
   "outputs": [
    {
     "name": "stdout",
     "output_type": "stream",
     "text": [
      "Sequentialmodel(\n",
      "  (activation): Tanh()\n",
      "  (linears): ModuleList(\n",
      "    (0): Linear(in_features=3, out_features=50, bias=True)\n",
      "    (1-2): 2 x Linear(in_features=50, out_features=50, bias=True)\n",
      "    (3): Linear(in_features=50, out_features=4, bias=True)\n",
      "  )\n",
      ")\n",
      "Sequentialmodel(\n",
      "  (activation): Tanh()\n",
      "  (linears): ModuleList(\n",
      "    (0): Linear(in_features=3, out_features=50, bias=True)\n",
      "    (1-2): 2 x Linear(in_features=50, out_features=50, bias=True)\n",
      "    (3): Linear(in_features=50, out_features=1, bias=True)\n",
      "  )\n",
      ")\n",
      "0\n",
      "0 Train Loss 6972.934\n",
      "1 Train Loss 6925.3047\n",
      "2 Train Loss 6855.4233\n",
      "3 Train Loss 6806.096\n",
      "4 Train Loss 6774.0903\n",
      "5 Train Loss 6717.9727\n",
      "6 Train Loss 6655.037\n",
      "7 Train Loss 6612.503\n",
      "8 Train Loss 6564.3623\n",
      "9 Train Loss 6503.428\n",
      "10 Train Loss 6434.7656\n",
      "11 Train Loss 6354.7485\n",
      "12 Train Loss 6260.61\n",
      "13 Train Loss 6156.7163\n",
      "14 Train Loss 6037.302\n",
      "15 Train Loss 5904.1274\n",
      "16 Train Loss 5754.451\n",
      "17 Train Loss 5591.0947\n",
      "18 Train Loss 5412.0015\n",
      "19 Train Loss 5216.3926\n",
      "20 Train Loss 4999.751\n",
      "21 Train Loss 4764.374\n",
      "22 Train Loss 4510.728\n",
      "23 Train Loss 4244.831\n",
      "24 Train Loss 3967.2744\n",
      "25 Train Loss 3678.1895\n",
      "26 Train Loss 3382.2148\n",
      "27 Train Loss 3082.108\n",
      "28 Train Loss 2787.5676\n",
      "29 Train Loss 2509.3074\n",
      "30 Train Loss 2244.841\n",
      "31 Train Loss 1984.7802\n",
      "32 Train Loss 1746.3257\n",
      "33 Train Loss 1531.3369\n",
      "34 Train Loss 1339.0137\n",
      "35 Train Loss 1196.7615\n",
      "36 Train Loss 1083.0583\n",
      "37 Train Loss 1011.5955\n",
      "38 Train Loss 978.12695\n",
      "39 Train Loss 943.4052\n",
      "40 Train Loss 924.5886\n",
      "41 Train Loss 904.2533\n",
      "42 Train Loss 891.6472\n",
      "43 Train Loss 876.2286\n",
      "44 Train Loss 819.637\n",
      "45 Train Loss 797.3093\n",
      "46 Train Loss 786.2014\n",
      "47 Train Loss 783.05585\n",
      "48 Train Loss 762.8622\n",
      "49 Train Loss 754.8603\n",
      "50 Train Loss 741.5515\n",
      "51 Train Loss 715.6715\n",
      "52 Train Loss 709.99713\n",
      "53 Train Loss 687.2001\n",
      "54 Train Loss 680.20056\n",
      "55 Train Loss 673.41626\n",
      "56 Train Loss 660.42114\n",
      "57 Train Loss 658.85187\n",
      "58 Train Loss 647.3639\n",
      "59 Train Loss 637.90674\n",
      "60 Train Loss 630.1797\n",
      "61 Train Loss 620.64935\n",
      "62 Train Loss 616.81036\n",
      "63 Train Loss 607.2521\n",
      "64 Train Loss 598.5627\n",
      "65 Train Loss 593.6791\n",
      "66 Train Loss 587.13776\n",
      "67 Train Loss 583.3953\n",
      "68 Train Loss 578.6703\n",
      "69 Train Loss 568.8867\n",
      "70 Train Loss 564.801\n",
      "71 Train Loss 561.0394\n",
      "72 Train Loss 552.6399\n",
      "73 Train Loss 548.89813\n",
      "74 Train Loss 539.921\n",
      "75 Train Loss 537.1858\n",
      "76 Train Loss 530.09735\n",
      "77 Train Loss 523.979\n",
      "78 Train Loss 519.7892\n",
      "79 Train Loss 514.5328\n",
      "80 Train Loss 507.63577\n",
      "81 Train Loss 503.28305\n",
      "82 Train Loss 497.28064\n",
      "83 Train Loss 491.61584\n",
      "84 Train Loss 1219.7622\n",
      "85 Train Loss 867.80835\n",
      "86 Train Loss 826.6518\n",
      "87 Train Loss 825.1719\n",
      "88 Train Loss 670.804\n",
      "89 Train Loss 501.3456\n",
      "90 Train Loss 401.68268\n",
      "91 Train Loss 380.66092\n",
      "92 Train Loss 356.40356\n",
      "93 Train Loss 316.45267\n",
      "94 Train Loss 271.5682\n",
      "95 Train Loss 243.95374\n",
      "96 Train Loss 206.78952\n",
      "97 Train Loss 187.59525\n",
      "98 Train Loss 208.54745\n",
      "99 Train Loss 198.45502\n",
      "100 Train Loss 184.95367\n",
      "101 Train Loss 176.47314\n",
      "102 Train Loss 161.13374\n",
      "103 Train Loss 150.63153\n",
      "104 Train Loss 143.1825\n",
      "105 Train Loss 141.33102\n",
      "106 Train Loss 134.65964\n",
      "107 Train Loss 131.65448\n",
      "108 Train Loss 132.42995\n",
      "109 Train Loss 124.84153\n",
      "110 Train Loss 122.68747\n",
      "111 Train Loss 119.79921\n",
      "112 Train Loss 113.731575\n",
      "113 Train Loss 110.9261\n",
      "114 Train Loss 109.75539\n",
      "115 Train Loss 106.902245\n",
      "116 Train Loss 104.27667\n",
      "117 Train Loss 101.9727\n",
      "118 Train Loss 97.96075\n",
      "119 Train Loss 95.95897\n",
      "120 Train Loss 94.866325\n",
      "121 Train Loss 92.60135\n",
      "122 Train Loss 91.42596\n",
      "123 Train Loss 90.3786\n",
      "124 Train Loss 88.77009\n",
      "125 Train Loss 87.48654\n",
      "126 Train Loss 86.68062\n",
      "127 Train Loss 85.44504\n",
      "128 Train Loss 83.7655\n",
      "129 Train Loss 82.732574\n",
      "130 Train Loss 81.470924\n",
      "131 Train Loss 80.31231\n",
      "132 Train Loss 79.963905\n",
      "133 Train Loss 78.95267\n",
      "134 Train Loss 77.774315\n",
      "135 Train Loss 77.21006\n",
      "136 Train Loss 76.2343\n",
      "137 Train Loss 75.46872\n",
      "138 Train Loss 74.981094\n",
      "139 Train Loss 74.06773\n",
      "140 Train Loss 73.34978\n",
      "141 Train Loss 72.82323\n",
      "142 Train Loss 72.17897\n",
      "143 Train Loss 71.68886\n",
      "144 Train Loss 71.010025\n",
      "145 Train Loss 70.307144\n",
      "146 Train Loss 69.886925\n",
      "147 Train Loss 69.34744\n",
      "148 Train Loss 68.84922\n",
      "149 Train Loss 68.44081\n",
      "150 Train Loss 67.88038\n",
      "151 Train Loss 67.425415\n",
      "152 Train Loss 67.02024\n",
      "153 Train Loss 66.53494\n",
      "154 Train Loss 66.12454\n",
      "155 Train Loss 65.71021\n",
      "156 Train Loss 65.274704\n",
      "157 Train Loss 64.89748\n",
      "158 Train Loss 64.51189\n",
      "159 Train Loss 64.11603\n",
      "160 Train Loss 63.74106\n",
      "161 Train Loss 63.359676\n",
      "162 Train Loss 63.00573\n",
      "163 Train Loss 62.661312\n",
      "164 Train Loss 62.31312\n",
      "165 Train Loss 61.97966\n",
      "166 Train Loss 61.63543\n",
      "167 Train Loss 61.317368\n",
      "168 Train Loss 61.02446\n",
      "169 Train Loss 60.724136\n",
      "170 Train Loss 60.468918\n",
      "171 Train Loss 60.283413\n",
      "172 Train Loss 60.216064\n",
      "173 Train Loss 60.408974\n",
      "174 Train Loss 61.152065\n",
      "175 Train Loss 63.171143\n",
      "176 Train Loss 67.79834\n",
      "177 Train Loss 77.14547\n",
      "178 Train Loss 91.40943\n",
      "179 Train Loss 102.52044\n",
      "180 Train Loss 91.73058\n",
      "181 Train Loss 65.49535\n",
      "182 Train Loss 59.144356\n",
      "183 Train Loss 75.40077\n",
      "184 Train Loss 78.78092\n",
      "185 Train Loss 62.35543\n",
      "186 Train Loss 58.263832\n",
      "187 Train Loss 69.52084\n",
      "188 Train Loss 68.20582\n",
      "189 Train Loss 57.19918\n",
      "190 Train Loss 59.336384\n",
      "191 Train Loss 65.87673\n",
      "192 Train Loss 60.310116\n",
      "193 Train Loss 55.24734\n",
      "194 Train Loss 60.26268\n",
      "195 Train Loss 61.229088\n",
      "196 Train Loss 55.44259\n",
      "197 Train Loss 55.74665\n",
      "198 Train Loss 59.308495\n",
      "199 Train Loss 56.6771\n",
      "200 Train Loss 53.827263\n",
      "201 Train Loss 56.07548\n",
      "202 Train Loss 56.72847\n",
      "203 Train Loss 53.96542\n",
      "204 Train Loss 53.596504\n",
      "205 Train Loss 55.25882\n",
      "206 Train Loss 54.443825\n",
      "207 Train Loss 52.753944\n",
      "208 Train Loss 53.277702\n",
      "209 Train Loss 53.96315\n",
      "210 Train Loss 52.93009\n",
      "211 Train Loss 52.089462\n",
      "212 Train Loss 52.605537\n",
      "213 Train Loss 52.786118\n",
      "214 Train Loss 51.94874\n",
      "215 Train Loss 51.49173\n",
      "216 Train Loss 51.820488\n",
      "217 Train Loss 51.85431\n",
      "218 Train Loss 51.23267\n",
      "219 Train Loss 50.86631\n",
      "220 Train Loss 51.05122\n",
      "221 Train Loss 51.064888\n",
      "222 Train Loss 50.619556\n",
      "223 Train Loss 50.269238\n",
      "224 Train Loss 50.322952\n",
      "225 Train Loss 50.3627\n",
      "226 Train Loss 50.07921\n",
      "227 Train Loss 49.73839\n",
      "228 Train Loss 49.65799\n",
      "229 Train Loss 49.69496\n",
      "230 Train Loss 49.551125\n",
      "231 Train Loss 49.266247\n",
      "232 Train Loss 49.085148\n",
      "233 Train Loss 49.052513\n",
      "234 Train Loss 48.99578\n",
      "235 Train Loss 48.81736\n",
      "236 Train Loss 48.606888\n"
     ]
    }
   ],
   "source": [
    "# from Seq_model import Sequentialmodel\n",
    "from Seq_Model_Parallel import coupled_PINN\n",
    "from training_samples import trainingdata_uvw,trainingdata_T\n",
    "label = 'meltpool'\n",
    "max_reps = 1\n",
    "max_iter = 2500\n",
    "p_iters = 10\n",
    "\n",
    "N_B = 1000\n",
    "N_f = 10000\n",
    "n_batches = 5\n",
    "\n",
    "train_loss_full = []\n",
    "test_mse_full = []\n",
    "test_re_full = []\n",
    "elapsed_time= np.zeros((max_reps,1))\n",
    "\n",
    "time_threshold = np.empty((max_reps,1))\n",
    "time_threshold[:] = np.nan\n",
    "epoch_threshold = max_iter*np.ones((max_reps,1))\n",
    "\n",
    "for reps in range(max_reps):\n",
    "\n",
    "    train_loss = []\n",
    "    test_mse_loss = []\n",
    "    test_re_loss = []\n",
    "\n",
    "    'Generate Training data'\n",
    "    torch.manual_seed(reps*3)\n",
    "     #Total number of collocation points\n",
    "\n",
    "\n",
    "    layers1 = np.array([3,50,50,50,4]) #9 hidden layers\n",
    "    layers2 = np.array([3,50,50,50,1]) #9 hidden layers\n",
    "    # layers = np.array([3,50,50,50,5])\n",
    "    # layers = np.array([3,64,64,64,1])\n",
    "    model_PINN = coupled_PINN(layers1,layers2,device1,device2,lb_xyz,ub_xyz)\n",
    "    # PINN = nn.DataParallel(PINN)\n",
    "    #PINN.to(device)\n",
    "\n",
    "    'Neural Network Summary'\n",
    "    #print(PINN)\n",
    "\n",
    "    #params = list(PINN.parameters())\n",
    "\n",
    "    # optimizer = torch.optim.LBFGS(PINN.parameters(), lr=0.25,\n",
    "    #                           max_iter = 30,\n",
    "    #                           max_eval = 50,\n",
    "    #                           tolerance_grad = 1e-5,\n",
    "    #                           tolerance_change = 1e-5,\n",
    "    #                           history_size = 100,\n",
    "    #                           line_search_fn = 'strong_wolfe')\n",
    "\n",
    "    optimizer = torch.optim.Adam(model_PINN.parameters(),lr=0.008, betas=(0.9, 0.999))\n",
    "\n",
    "    start_time = time.time()\n",
    "    train_model(max_iter,reps,n_batches)\n",
    "\n",
    "\n",
    "    torch.save(model_PINN.state_dict(),'AFSD_Exp_1mm_1mms_'+ str(Omega)+'.pt')\n",
    "    # train_loss_full.append(train_loss)\n",
    "    # test_mse_full.append(test_mse_loss)\n",
    "    # test_re_full.append(test_re_loss)\n",
    "\n",
    "\n",
    "    print('Training time: %.2f' % (elapsed_time[reps]))\n",
    "\n",
    "mdic = {\"train_loss\": train_loss_full,\"test_mse_loss\": test_mse_full, \"test_re_loss\": test_re_full, \"Time\": elapsed_time, \"label\": label, \"Thresh Time\": time_threshold,\"Thresh epoch\": epoch_threshold}\n",
    "savemat(label+'.mat', mdic)"
   ]
  },
  {
   "cell_type": "code",
   "execution_count": null,
   "id": "86ce26dc",
   "metadata": {},
   "outputs": [],
   "source": [
    "torch.save(model_PINN.state_dict(),'AFSD_Exp_1mm_'+ str(Omega)+'.pt')"
   ]
  },
  {
   "cell_type": "code",
   "execution_count": null,
   "id": "59fccb21-7030-4050-ae16-7f138f7ba249",
   "metadata": {},
   "outputs": [],
   "source": [
    "[x_min,y_min,z_min] = lb_xyz\n",
    "[x_max,y_max,z_max] = ub_xyz\n",
    "\n",
    "x_min = -20.0\n",
    "x_max = 20.0\n",
    "\n",
    "x = np.linspace(x_min,x_max,200).reshape(-1,1)\n",
    "# y = np.linspace(y_min,y_max,200).reshape(-1,1)\n",
    "y = 0.0\n",
    "z = np.linspace(z_min,z_max,50).reshape(-1,1)\n",
    "# z = 0.0\n",
    "X,Y,Z = np.meshgrid(x,y,z)\n",
    "\n",
    "X = X.flatten('F').reshape(-1,1)\n",
    "Y = Y.flatten('F').reshape(-1,1)\n",
    "Z = Z.flatten('F').reshape(-1,1)\n",
    "\n",
    "xyz = np.hstack((X,Y,Z))\n",
    "xyz_test_tensor = torch.from_numpy(xyz).float().to(device1)\n",
    "\n",
    "uvwp = model_PINN.PINN_uvw.forward(xyz_test_tensor).cpu().detach().numpy()"
   ]
  },
  {
   "cell_type": "code",
   "execution_count": null,
   "id": "bdac24ed",
   "metadata": {},
   "outputs": [
    {
     "data": {
      "text/plain": [
       "<matplotlib.colorbar.Colorbar at 0x7f50a8190e20>"
      ]
     },
     "execution_count": 8,
     "metadata": {},
     "output_type": "execute_result"
    },
    {
     "data": {
      "image/png": "[encoded data removed]",
      "text/plain": [
       "<Figure size 640x480 with 2 Axes>"
      ]
     },
     "metadata": {},
     "output_type": "display_data"
    }
   ],
   "source": [
    "fig,ax = plt.subplots()\n",
    "im = ax.imshow(uvwp[:,1].reshape(50,200)/1000)\n",
    "fig.colorbar(im)"
   ]
  },
  {
   "cell_type": "code",
   "execution_count": null,
   "id": "e8d000d1-c6fb-4074-8861-823db543fa72",
   "metadata": {},
   "outputs": [
    {
     "ename": "ValueError",
     "evalue": "cannot reshape array of size 10000 into shape (200,200)",
     "output_type": "error",
     "traceback": [
      "\u001b[0;31m---------------------------------------------------------------------------\u001b[0m",
      "\u001b[0;31mValueError\u001b[0m                                Traceback (most recent call last)",
      "Cell \u001b[0;32mIn[9], line 5\u001b[0m\n\u001b[1;32m      2\u001b[0m \u001b[38;5;66;03m# r_vel = np.sqrt(np.square(uvwp[:,2]))\u001b[39;00m\n\u001b[1;32m      3\u001b[0m \u001b[38;5;66;03m# r_vel = uvwp[:,2]\u001b[39;00m\n\u001b[1;32m      4\u001b[0m fig,ax \u001b[38;5;241m=\u001b[39m plt\u001b[38;5;241m.\u001b[39msubplots()\n\u001b[0;32m----> 5\u001b[0m im \u001b[38;5;241m=\u001b[39m ax\u001b[38;5;241m.\u001b[39mimshow(\u001b[43m(\u001b[49m\u001b[43mr_vel\u001b[49m\u001b[38;5;241;43m/\u001b[39;49m\u001b[38;5;241;43m1000\u001b[39;49m\u001b[43m)\u001b[49m\u001b[38;5;241;43m.\u001b[39;49m\u001b[43mreshape\u001b[49m\u001b[43m(\u001b[49m\u001b[38;5;241;43m200\u001b[39;49m\u001b[43m,\u001b[49m\u001b[38;5;241;43m200\u001b[39;49m\u001b[43m)\u001b[49m,cmap \u001b[38;5;241m=\u001b[39m \u001b[38;5;124m'\u001b[39m\u001b[38;5;124mjet\u001b[39m\u001b[38;5;124m'\u001b[39m,extent \u001b[38;5;241m=\u001b[39m [\u001b[38;5;241m-\u001b[39m\u001b[38;5;241m20\u001b[39m,\u001b[38;5;241m20\u001b[39m,\u001b[38;5;241m-\u001b[39m\u001b[38;5;241m20\u001b[39m,\u001b[38;5;241m20\u001b[39m],vmax \u001b[38;5;241m=\u001b[39m \u001b[38;5;241m0.15\u001b[39m,vmin \u001b[38;5;241m=\u001b[39m \u001b[38;5;241m0\u001b[39m)\n\u001b[1;32m      6\u001b[0m fig\u001b[38;5;241m.\u001b[39mcolorbar(im)\n\u001b[1;32m      7\u001b[0m ax\u001b[38;5;241m.\u001b[39mset_title(\u001b[38;5;124m'\u001b[39m\u001b[38;5;124mResultant Velocity (m/s)\u001b[39m\u001b[38;5;124m'\u001b[39m,fontsize \u001b[38;5;241m=\u001b[39m \u001b[38;5;241m18\u001b[39m)\n",
      "\u001b[0;31mValueError\u001b[0m: cannot reshape array of size 10000 into shape (200,200)"
     ]
    },
    {
     "data": {
      "image/png": "[encoded data removed]",
      "text/plain": [
       "<Figure size 640x480 with 1 Axes>"
      ]
     },
     "metadata": {},
     "output_type": "display_data"
    }
   ],
   "source": [
    "r_vel = np.sqrt(np.square(uvwp[:,0])+np.square(uvwp[:,1])+np.square(uvwp[:,2]))\n",
    "# r_vel = np.sqrt(np.square(uvwp[:,2]))\n",
    "# r_vel = uvwp[:,2]\n",
    "fig,ax = plt.subplots()\n",
    "im = ax.imshow((r_vel/1000).reshape(200,200),cmap = 'jet',extent = [-20,20,-20,20],vmax = 0.15,vmin = 0)\n",
    "fig.colorbar(im)\n",
    "ax.set_title('Resultant Velocity (m/s)',fontsize = 18)\n",
    "ax.set_xlabel('$x$ (mm)',math_fontfamily = 'cm',fontsize = 14)\n",
    "ax.set_ylabel('$y$ (mm)',math_fontfamily = 'cm',fontsize = 14)\n",
    "# plt.savefig('Res_vel_xy_Proposal.svg',format = 'svg',bbox_inches = 'tight')"
   ]
  },
  {
   "cell_type": "code",
   "execution_count": null,
   "id": "93c1f440",
   "metadata": {},
   "outputs": [
    {
     "data": {
      "image/png": "[encoded data removed]",
      "text/plain": [
       "<Figure size 640x480 with 1 Axes>"
      ]
     },
     "metadata": {},
     "output_type": "display_data"
    }
   ],
   "source": [
    "#Cross Section\n",
    "r_vel = np.sqrt(np.square(uvwp[:,0])+np.square(uvwp[:,1])+np.square(uvwp[:,2]))\n",
    "# r_vel = np.sqrt(np.square(uvwp[:,2]))\n",
    "# r_vel = uvwp[:,2]\n",
    "fig,ax = plt.subplots()\n",
    "im = ax.imshow((np.flip(r_vel)/1000).reshape(50,200),cmap = 'jet',extent = [-20,20,-3,0],vmax = 0.15,vmin = 0)\n",
    "# fig.colorbar(im)\n",
    "# ax.set_title('Resultant Velocity (m/s)',fontsize = 18)\n",
    "ax.set_xlabel('$x$ (mm)',math_fontfamily = 'cm',fontsize = 14)\n",
    "ax.set_ylabel('$z$ (mm)',math_fontfamily = 'cm',fontsize = 14)\n",
    "plt.savefig('Res_vel_xz_Proposal.svg',format = 'svg',bbox_inches = 'tight')"
   ]
  },
  {
   "cell_type": "code",
   "execution_count": null,
   "id": "7ef87f55-d125-4c5b-a16d-544611395158",
   "metadata": {},
   "outputs": [],
   "source": [
    "g = xyz_test_tensor.clone()\n",
    "g.requires_grad = True\n",
    "\n",
    "out_full = model_PINN.PINN_uvw.forward(g.to(device1)).cpu() \n",
    "u = out_full[:,0:1]\n",
    "v = out_full[:,1:2]\n",
    "w = out_full[:,2:3]\n",
    "p = out_full[:,3:4]\n",
    "\n",
    "\n",
    "# print(T.shape)\n",
    "T = model_PINN.PINN_T.forward(g.to(device2)).cpu()\n",
    "\n",
    "# p_xyz = autograd.grad(p,g,torch.ones([xyz_coll.shape[0], 1]).to(device), retain_graph=True, create_graph=True,allow_unused = True)[0]\n",
    "u_xyz = autograd.grad(u,g,torch.ones([xyz_test_tensor.shape[0], 1]).to('cpu'),retain_graph=True,allow_unused = True)[0].cpu()\n",
    "v_xyz = autograd.grad(v,g,torch.ones([xyz_test_tensor.shape[0], 1]).to('cpu'),retain_graph=True,allow_unused = True)[0].cpu()\n",
    "w_xyz = autograd.grad(w,g,torch.ones([xyz_test_tensor.shape[0], 1]).to('cpu'),retain_graph=True,allow_unused = True)[0].cpu()\n",
    "\n",
    "eps2_11 = torch.square(1/2*(2*u_xyz[:,0]))\n",
    "eps2_12 = torch.square(1/2*(u_xyz[:,1] + v_xyz[:,0]))\n",
    "eps2_13 = torch.square(1/2*(u_xyz[:,2] + w_xyz[:,0]))\n",
    "\n",
    "eps2_21 = eps2_12\n",
    "eps2_22 = torch.square(1/2*(2*v_xyz[:,1])) \n",
    "eps2_23 = torch.square(1/2*(v_xyz[:,2] + w_xyz[:,1]))\n",
    "\n",
    "eps2_31 = eps2_13\n",
    "eps2_32 = eps2_23 \n",
    "eps2_33 = torch.square(1/2*(2*w_xyz[:,2]))\n",
    "\n",
    "eps_e = torch.sqrt((2/3)*(eps2_11 + eps2_12 + eps2_13 + eps2_21 + eps2_22 + eps2_23 + eps2_31 + eps2_32 + eps2_33)).reshape(-1,1)\n",
    "\n",
    "\n",
    "# Z = eps_e*torch.exp(E_a/(R*T))\n",
    "# log_Z = torch.log(eps_e) + E_a/(R*T)\n",
    "log_Z = torch.log(eps_e) + E_a/(R*T) #Simplification\n",
    "\n",
    "\n",
    "W = (log_Z - log_A)/n\n",
    "\n",
    "\n",
    "\n",
    "# sigma_e =  (1/alpha_sig)*torch.asinh(W) \n",
    "sigma_e = (1/alpha_sig)*(np.log(2)/n + W) #Approximation\n",
    "\n",
    "#____________________________#\n",
    "mu_vis = sigma_e/(3*eps_e)\n",
    "\n",
    "\n",
    "eps_e = eps_e.cpu().detach().numpy()\n",
    "sigma_e = sigma_e.cpu().detach().numpy()\n",
    "mu_vis = mu_vis.cpu().detach().numpy()\n"
   ]
  },
  {
   "cell_type": "code",
   "execution_count": null,
   "id": "0592b72c",
   "metadata": {},
   "outputs": [
    {
     "data": {
      "text/plain": [
       "tensor(737.3478, grad_fn=<MaxBackward1>)"
      ]
     },
     "execution_count": 15,
     "metadata": {},
     "output_type": "execute_result"
    }
   ],
   "source": [
    "torch.max(T)"
   ]
  },
  {
   "cell_type": "code",
   "execution_count": null,
   "id": "6cfcef78-9322-40dc-9938-90498e7cc584",
   "metadata": {},
   "outputs": [
    {
     "ename": "ValueError",
     "evalue": "cannot reshape array of size 10000 into shape (200,200)",
     "output_type": "error",
     "traceback": [
      "\u001b[0;31m---------------------------------------------------------------------------\u001b[0m",
      "\u001b[0;31mValueError\u001b[0m                                Traceback (most recent call last)",
      "Cell \u001b[0;32mIn[100], line 2\u001b[0m\n\u001b[1;32m      1\u001b[0m fig,ax \u001b[38;5;241m=\u001b[39m plt\u001b[38;5;241m.\u001b[39msubplots()\n\u001b[0;32m----> 2\u001b[0m im \u001b[38;5;241m=\u001b[39m ax\u001b[38;5;241m.\u001b[39mimshow(\u001b[43mT\u001b[49m\u001b[38;5;241;43m.\u001b[39;49m\u001b[43mcpu\u001b[49m\u001b[43m(\u001b[49m\u001b[43m)\u001b[49m\u001b[38;5;241;43m.\u001b[39;49m\u001b[43mdetach\u001b[49m\u001b[43m(\u001b[49m\u001b[43m)\u001b[49m\u001b[38;5;241;43m.\u001b[39;49m\u001b[43mnumpy\u001b[49m\u001b[43m(\u001b[49m\u001b[43m)\u001b[49m\u001b[38;5;241;43m.\u001b[39;49m\u001b[43mreshape\u001b[49m\u001b[43m(\u001b[49m\u001b[38;5;241;43m200\u001b[39;49m\u001b[43m,\u001b[49m\u001b[38;5;241;43m200\u001b[39;49m\u001b[43m)\u001b[49m,cmap \u001b[38;5;241m=\u001b[39m \u001b[38;5;124m'\u001b[39m\u001b[38;5;124mjet\u001b[39m\u001b[38;5;124m'\u001b[39m,extent \u001b[38;5;241m=\u001b[39m [\u001b[38;5;241m-\u001b[39m\u001b[38;5;241m20\u001b[39m,\u001b[38;5;241m20\u001b[39m,\u001b[38;5;241m-\u001b[39m\u001b[38;5;241m20\u001b[39m,\u001b[38;5;241m20\u001b[39m],vmax \u001b[38;5;241m=\u001b[39m \u001b[38;5;241m800\u001b[39m,vmin \u001b[38;5;241m=\u001b[39m \u001b[38;5;241m300\u001b[39m)\n\u001b[1;32m      3\u001b[0m fig\u001b[38;5;241m.\u001b[39mcolorbar(im)\n\u001b[1;32m      4\u001b[0m ax\u001b[38;5;241m.\u001b[39mset_title(\u001b[38;5;124m'\u001b[39m\u001b[38;5;124mTemperature (K)\u001b[39m\u001b[38;5;124m'\u001b[39m,fontsize \u001b[38;5;241m=\u001b[39m \u001b[38;5;241m18\u001b[39m)\n",
      "\u001b[0;31mValueError\u001b[0m: cannot reshape array of size 10000 into shape (200,200)"
     ]
    },
    {
     "data": {
      "image/png": "[encoded data removed]",
      "text/plain": [
       "<Figure size 640x480 with 1 Axes>"
      ]
     },
     "metadata": {},
     "output_type": "display_data"
    }
   ],
   "source": [
    "fig,ax = plt.subplots()\n",
    "im = ax.imshow(T.cpu().detach().numpy().reshape(200,200),cmap = 'jet',extent = [-20,20,-20,20],vmax = 800,vmin = 300)\n",
    "fig.colorbar(im)\n",
    "ax.set_title('Temperature (K)',fontsize = 18)\n",
    "ax.set_xlabel('$x$ (mm)',math_fontfamily = 'cm',fontsize = 14)\n",
    "ax.set_ylabel('$y$ (mm)',math_fontfamily = 'cm',fontsize = 14)\n",
    "# plt.savefig('Temp_xy_Proposal.svg',format = 'svg',bbox_inches = 'tight')"
   ]
  },
  {
   "cell_type": "code",
   "execution_count": null,
   "id": "1d4ff22f",
   "metadata": {},
   "outputs": [
    {
     "data": {
      "image/png": "[encoded data removed]",
      "text/plain": [
       "<Figure size 640x480 with 1 Axes>"
      ]
     },
     "metadata": {},
     "output_type": "display_data"
    }
   ],
   "source": [
    "fig,ax = plt.subplots()\n",
    "im = ax.imshow(np.flip(T.cpu().detach().numpy().reshape(50,200)),cmap = 'jet',extent = [-20,20,-3,0],vmax = 800,vmin = 300)\n",
    "# fig.colorbar(im)\n",
    "# ax.set_title('Temperature (K)',fontsize = 18)\n",
    "ax.set_xlabel('$x$ (mm)',math_fontfamily = 'cm',fontsize = 14)\n",
    "ax.set_ylabel('$z$ (mm)',math_fontfamily = 'cm',fontsize = 14)\n",
    "plt.savefig('Temp_xz_Proposal.svg',format = 'svg',bbox_inches = 'tight')"
   ]
  },
  {
   "cell_type": "code",
   "execution_count": null,
   "id": "5bb960cb-2ad1-4850-8cde-8fee710dc085",
   "metadata": {},
   "outputs": [
    {
     "ename": "NameError",
     "evalue": "name 'plt' is not defined",
     "output_type": "error",
     "traceback": [
      "\u001b[0;31m---------------------------------------------------------------------------\u001b[0m",
      "\u001b[0;31mNameError\u001b[0m                                 Traceback (most recent call last)",
      "Cell \u001b[0;32mIn[1], line 1\u001b[0m\n\u001b[0;32m----> 1\u001b[0m fig,ax \u001b[38;5;241m=\u001b[39m \u001b[43mplt\u001b[49m\u001b[38;5;241m.\u001b[39msubplots()\n\u001b[1;32m      2\u001b[0m im \u001b[38;5;241m=\u001b[39m ax\u001b[38;5;241m.\u001b[39mimshow(eps_e\u001b[38;5;241m.\u001b[39mreshape(\u001b[38;5;241m200\u001b[39m,\u001b[38;5;241m200\u001b[39m),cmap \u001b[38;5;241m=\u001b[39m \u001b[38;5;124m'\u001b[39m\u001b[38;5;124mjet\u001b[39m\u001b[38;5;124m'\u001b[39m,extent \u001b[38;5;241m=\u001b[39m [\u001b[38;5;241m-\u001b[39m\u001b[38;5;241m20\u001b[39m,\u001b[38;5;241m20\u001b[39m,\u001b[38;5;241m-\u001b[39m\u001b[38;5;241m20\u001b[39m,\u001b[38;5;241m20\u001b[39m],vmax \u001b[38;5;241m=\u001b[39m \u001b[38;5;241m175\u001b[39m,vmin \u001b[38;5;241m=\u001b[39m \u001b[38;5;241m0\u001b[39m)\n\u001b[1;32m      3\u001b[0m fig\u001b[38;5;241m.\u001b[39mcolorbar(im)\n",
      "\u001b[0;31mNameError\u001b[0m: name 'plt' is not defined"
     ]
    }
   ],
   "source": [
    "fig,ax = plt.subplots()\n",
    "im = ax.imshow(eps_e.reshape(200,200),cmap = 'jet',extent = [-20,20,-20,20],vmax = 175,vmin = 0)\n",
    "fig.colorbar(im)\n",
    "ax.set_title('Effective Strain Rate ($s^{-1}$)',math_fontfamily = 'cm',fontsize = 18)\n",
    "ax.set_xlabel('$x$ (mm)',math_fontfamily = 'cm',fontsize = 16)\n",
    "ax.set_ylabel('$y$ (mm)',math_fontfamily = 'cm',fontsize = 16)\n",
    "# plt.savefig('Viscosity_Feb7.svg',format = 'svg',bbox_inches = 'tight')\n",
    "# plt.savefig('Strain_Rate_xy_Proposal.svg',format = 'svg',bbox_inches = 'tight')"
   ]
  },
  {
   "cell_type": "code",
   "execution_count": null,
   "id": "a846a92e",
   "metadata": {},
   "outputs": [
    {
     "data": {
      "image/png": "[encoded data removed]",
      "text/plain": [
       "<Figure size 640x480 with 1 Axes>"
      ]
     },
     "metadata": {},
     "output_type": "display_data"
    }
   ],
   "source": [
    "fig,ax = plt.subplots()\n",
    "im = ax.imshow(np.flip(eps_e.reshape(50,200)),cmap = 'jet',extent = [-20,20,-3,0],vmax = 175,vmin = 0)\n",
    "# fig.colorbar(im)\n",
    "# ax.set_title('$\\dot\\epsilon_e$ ($s^{-1}$)',math_fontfamily = 'cm',fontsize = 18)\n",
    "ax.set_xlabel('$x$ (mm)',math_fontfamily = 'cm',fontsize = 16)\n",
    "ax.set_ylabel('$z$ (mm)',math_fontfamily = 'cm',fontsize = 16)\n",
    "# plt.savefig('Viscosity_Feb7.svg',format = 'svg',bbox_inches = 'tight')\n",
    "plt.savefig('Strain_Rate_xz_Proposal.svg',format = 'svg',bbox_inches = 'tight')"
   ]
  },
  {
   "cell_type": "code",
   "execution_count": null,
   "id": "9499dc38",
   "metadata": {},
   "outputs": [
    {
     "data": {
      "text/plain": [
       "0.141188"
      ]
     },
     "execution_count": 152,
     "metadata": {},
     "output_type": "execute_result"
    }
   ],
   "source": [
    "np.min(eps_e)"
   ]
  },
  {
   "cell_type": "code",
   "execution_count": null,
   "id": "eba456a6-0f56-4100-a4b2-57d4afa0978c",
   "metadata": {},
   "outputs": [
    {
     "name": "stderr",
     "output_type": "stream",
     "text": [
      "/home/smartlab/anaconda3/envs/raghav/lib/python3.9/site-packages/scipy/io/matlab/_mio.py:227: MatReadWarning: Duplicate variable name \"None\" in stream - replacing previous with new\n",
      "Consider mio5.varmats_from_mat to split file into single variable files\n",
      "  matfile_dict = MR.get_variables(variable_names)\n"
     ]
    }
   ],
   "source": [
    "#Testing with FVM data\n",
    "fvm_data = loadmat('/home/smartlab/Documents/jupyterNB/raghav/Projects_git_summer2024/Data/AFSD_Nikhil/Exponential_300_2mms.mat')\n",
    "\n",
    "u_fvm = fvm_data['u_star']\n",
    "v_fvm = fvm_data['v_star']\n",
    "w_fvm = fvm_data['w_star']\n",
    "\n",
    "u_fvm = (u_fvm[0:-1,:,:] + u_fvm[1:,:,:])/2\n",
    "v_fvm = (v_fvm[:,0:-1,:] + v_fvm[:,1:,:])/2\n",
    "w_fvm = (w_fvm[:,:,0:-1] + w_fvm[:,:,1:])/2\n",
    "\n",
    "\n",
    "Res_v_fvm = np.sqrt(np.square(u_fvm) + np.square(v_fvm) + np.square(w_fvm))\n",
    "T_fvm = fvm_data['T']\n",
    "sigma_e_fvm = fvm_data['effectivestress']"
   ]
  },
  {
   "cell_type": "code",
   "execution_count": null,
   "id": "9fa7129b",
   "metadata": {},
   "outputs": [
    {
     "data": {
      "text/plain": [
       "dict_keys(['__header__', '__version__', '__globals__', 'ABC', 'ALPHA', 'Db', 'De', 'Dn', 'Ds', 'Dt', 'Dw', 'Dx', 'Dy', 'Dz', 'FL', 'Fb', 'Fe', 'Fn', 'Fs', 'Ft', 'Fw', 'None', 'Lx', 'Ly', 'Lz', 'N', 'Nx', 'Ny', 'Nz', 'RPS', 'SZ', 'T', 'Tb', 'Te', 'Theat', 'Tn', 'Told', 'Ts', 'Tt', 'Tw', 'X', 'Xcenter', 'Y', 'Ycenter', 'Z', 'a1', 'a2', 'a3', 'a4', 'a5', 'a6', 'aB', 'aE', 'aN', 'aP', 'aS', 'aT', 'aW', 'alpha', 'alpha4', 'alpha5', 'alpha6', 'alphaP', 'alphaU', 'ans', 'b1', 'b2', 'ba', 'c', 'c1', 'c2', 'c3', 'd_u', 'd_v', 'd_w', 'delta', 'delta1', 'dx', 'dy', 'dz', 'eexx', 'eeyy', 'eezz', 'effectivestress', 'effstrrate', 'ep', 'ep1', 'errorheat', 'errormax', 'exp1', 'hbo', 'heat', 'hup', 'i', 'imax', 'ite', 'itera', 'iteration', 'j', 'jmax', 'k', 'k1', 'k2', 'k3', 'kmax', 'ku', 'l', 'maxRes', 'maxRes_u', 'maxRes_v', 'maxRes_w', 'mu', 'mumax', 'p', 'pB', 'pE', 'pN', 'pP', 'pRes', 'pS', 'pT', 'pW', 'p_prime', 'p_star', 'plasticheat', 'pold', 'pressure_term', 'q', 'q1', 'q2', 'q3', 'qu', 'ro', 'rrt', 'rrxy', 'rrxz', 'rryz', 'slip', 'sxx', 'syy', 'szz', 'thet', 'theta', 'theta1', 'tilte', 'tol', 'trt', 'txx', 'txy', 'txz', 'tyy', 'tyz', 'tzz', 'u', 'uRes', 'u_star', 'uavg', 'ub', 'uold', 'ur', 'ut', 'uth', 'v', 'v1', 'vRes', 'v_star', 'vavg', 'vb', 'vold', 'vt', 'w', 'wRes', 'w_star', 'wavg', 'wold', 'wt', 'x', 'x3', 'y', 'y3', 'z', 'z3', '__function_workspace__'])"
      ]
     },
     "execution_count": 21,
     "metadata": {},
     "output_type": "execute_result"
    }
   ],
   "source": [
    "fvm_data.keys()"
   ]
  },
  {
   "cell_type": "code",
   "execution_count": null,
   "id": "79467057",
   "metadata": {},
   "outputs": [],
   "source": [
    "[x_min,y_min,z_min] = lb_xyz\n",
    "[x_max,y_max,z_max] = ub_xyz\n",
    "\n",
    "# x_min = -20.0\n",
    "# x_max = 20.0\n",
    "\n",
    "# x = np.linspace(x_min,x_max,250)\n",
    "x = np.linspace(x_min,x_max,251)\n",
    "x = (x[0:-1] + x[1:]).reshape(-1,1)/2\n",
    "y = np.linspace(y_min,y_max,101)\n",
    "y = (y[0:-1] + y[1:]).reshape(-1,1)/2\n",
    "z = np.linspace(z_min,z_max,13)\n",
    "z = (z[0:-1] + z[1:]).reshape(-1,1)/2\n",
    "\n",
    "X,Y,Z = np.meshgrid(x,y,z)\n",
    "\n",
    "X = X.flatten('F').reshape(-1,1)\n",
    "Y = Y.flatten('F').reshape(-1,1)\n",
    "Z = Z.flatten('F').reshape(-1,1)\n",
    "\n",
    "xyz = np.hstack((X,Y,Z))\n",
    "xyz_test_tensor = torch.from_numpy(xyz).float().to(device1)\n",
    "\n",
    "uvwp = model_PINN.PINN_uvw.forward(xyz_test_tensor).cpu().detach().numpy()\n",
    "\n",
    "Res_v_PINN = np.sqrt(np.square(uvwp[:,0])+np.square(uvwp[:,1])+np.square(uvwp[:,2])).reshape(12,250,100,order = 'C')\n",
    "\n",
    "Res_v_PINN = np.swapaxes(np.swapaxes(Res_v_PINN,0,1),1,2)/1000"
   ]
  },
  {
   "cell_type": "code",
   "execution_count": null,
   "id": "55ad2673",
   "metadata": {},
   "outputs": [
    {
     "data": {
      "text/plain": [
       "<matplotlib.image.AxesImage at 0x7f88945dff10>"
      ]
     },
     "execution_count": 11,
     "metadata": {},
     "output_type": "execute_result"
    },
    {
     "data": {
      "image/png": "[encoded data removed]",
      "text/plain": [
       "<Figure size 640x480 with 1 Axes>"
      ]
     },
     "metadata": {},
     "output_type": "display_data"
    }
   ],
   "source": [
    "plt.imshow(Res_v_fvm[:,:,11],cmap = 'jet')"
   ]
  },
  {
   "cell_type": "code",
   "execution_count": null,
   "id": "cdb7d6a3",
   "metadata": {},
   "outputs": [
    {
     "data": {
      "text/plain": [
       "<matplotlib.image.AxesImage at 0x7f889c2fb610>"
      ]
     },
     "execution_count": 12,
     "metadata": {},
     "output_type": "execute_result"
    },
    {
     "data": {
      "image/png": "[encoded data removed]",
      "text/plain": [
       "<Figure size 640x480 with 1 Axes>"
      ]
     },
     "metadata": {},
     "output_type": "display_data"
    }
   ],
   "source": [
    "plt.imshow(Res_v_PINN[:,:,11],cmap = 'jet')"
   ]
  },
  {
   "cell_type": "code",
   "execution_count": null,
   "id": "e77a17f2",
   "metadata": {},
   "outputs": [
    {
     "name": "stdout",
     "output_type": "stream",
     "text": [
      "0.43992511093364783\n"
     ]
    }
   ],
   "source": [
    "RE = np.linalg.norm((Res_v_PINN-Res_v_fvm).reshape(-1,),2)/np.linalg.norm(Res_v_fvm.reshape(-1,),2)\n",
    "print(RE)"
   ]
  },
  {
   "cell_type": "code",
   "execution_count": null,
   "id": "535f5ef3",
   "metadata": {},
   "outputs": [
    {
     "name": "stdout",
     "output_type": "stream",
     "text": [
      "0.0056141700274422056\n"
     ]
    }
   ],
   "source": [
    "RMSE = np.sqrt(np.mean(np.square(Res_v_fvm[:]-Res_v_PINN[:])))\n",
    "print(RMSE)"
   ]
  },
  {
   "cell_type": "code",
   "execution_count": null,
   "id": "2fb688df",
   "metadata": {},
   "outputs": [],
   "source": [
    "g = xyz_test_tensor.clone()\n",
    "g.requires_grad = True\n",
    "\n",
    "out_full = model_PINN.PINN_uvw.forward(g.to(device1)).cpu() \n",
    "u = out_full[:,0:1]\n",
    "v = out_full[:,1:2]\n",
    "w = out_full[:,2:3]\n",
    "p = out_full[:,3:4]\n",
    "\n",
    "\n",
    "# print(T.shape)\n",
    "T = model_PINN.PINN_T.forward(g.to(device2)).cpu()\n",
    "\n",
    "# p_xyz = autograd.grad(p,g,torch.ones([xyz_coll.shape[0], 1]).to(device), retain_graph=True, create_graph=True,allow_unused = True)[0]\n",
    "u_xyz = autograd.grad(u,g,torch.ones([xyz_test_tensor.shape[0], 1]).to('cpu'),retain_graph=True,allow_unused = True)[0].cpu()\n",
    "v_xyz = autograd.grad(v,g,torch.ones([xyz_test_tensor.shape[0], 1]).to('cpu'),retain_graph=True,allow_unused = True)[0].cpu()\n",
    "w_xyz = autograd.grad(w,g,torch.ones([xyz_test_tensor.shape[0], 1]).to('cpu'),retain_graph=True,allow_unused = True)[0].cpu()\n",
    "\n",
    "eps2_11 = torch.square(1/2*(2*u_xyz[:,0]))\n",
    "eps2_12 = torch.square(1/2*(u_xyz[:,1] + v_xyz[:,0]))\n",
    "eps2_13 = torch.square(1/2*(u_xyz[:,2] + w_xyz[:,0]))\n",
    "\n",
    "eps2_21 = eps2_12\n",
    "eps2_22 = torch.square(1/2*(2*v_xyz[:,1])) \n",
    "eps2_23 = torch.square(1/2*(v_xyz[:,2] + w_xyz[:,1]))\n",
    "\n",
    "eps2_31 = eps2_13\n",
    "eps2_32 = eps2_23 \n",
    "eps2_33 = torch.square(1/2*(2*w_xyz[:,2]))\n",
    "\n",
    "eps_e = torch.sqrt((2/3)*(eps2_11 + eps2_12 + eps2_13 + eps2_21 + eps2_22 + eps2_23 + eps2_31 + eps2_32 + eps2_33)).reshape(-1,1)\n",
    "\n",
    "\n",
    "# Z = eps_e*torch.exp(E_a/(R*T))\n",
    "# log_Z = torch.log(eps_e) + E_a/(R*T)\n",
    "log_Z = torch.log(eps_e) + E_a/(R*T) #Simplification\n",
    "\n",
    "\n",
    "W = (log_Z - log_A)/n\n",
    "\n",
    "\n",
    "\n",
    "# sigma_e =  (1/alpha_sig)*torch.asinh(W) \n",
    "sigma_e = (1/alpha_sig)*(np.log(2)/n + W) #Approximation\n",
    "\n",
    "#____________________________#\n",
    "mu_vis = sigma_e/(3*eps_e)\n",
    "\n",
    "\n",
    "eps_e = eps_e.cpu().detach().numpy()\n",
    "sigma_e = sigma_e.cpu().detach().numpy()\n",
    "mu_vis = mu_vis.cpu().detach().numpy()\n"
   ]
  },
  {
   "cell_type": "code",
   "execution_count": null,
   "id": "7cd34586",
   "metadata": {},
   "outputs": [
    {
     "name": "stdout",
     "output_type": "stream",
     "text": [
      "RE:  0.0661861823040817\n",
      "RMSE:  35.78858208607823\n"
     ]
    }
   ],
   "source": [
    "T_PINN = T.cpu().detach().numpy().reshape(12,250,100,order = 'C')\n",
    "T_PINN = np.swapaxes(np.swapaxes(T_PINN,0,1),1,2)\n",
    "\n",
    "print(\"RE: \",np.linalg.norm((T_PINN-T_fvm).reshape(-1,),2)/np.linalg.norm(T_fvm.reshape(-1,),2))\n",
    "print(\"RMSE: \",np.sqrt(np.mean(np.square(T_fvm[:]-T_PINN[:]))))"
   ]
  },
  {
   "cell_type": "code",
   "execution_count": null,
   "id": "c956c1ec",
   "metadata": {},
   "outputs": [
    {
     "data": {
      "text/plain": [
       "array([[1.        , 0.96506005],\n",
       "       [0.96506005, 1.        ]])"
      ]
     },
     "execution_count": 18,
     "metadata": {},
     "output_type": "execute_result"
    }
   ],
   "source": [
    "#Correlation between Predicted and Actual \n",
    "np.corrcoef(T_PINN.reshape(-1,),T_fvm.reshape(-1,))"
   ]
  },
  {
   "cell_type": "code",
   "execution_count": null,
   "id": "9b1607be",
   "metadata": {},
   "outputs": [
    {
     "data": {
      "text/plain": [
       "array([[1.        , 0.89007729],\n",
       "       [0.89007729, 1.        ]])"
      ]
     },
     "execution_count": 19,
     "metadata": {},
     "output_type": "execute_result"
    }
   ],
   "source": [
    "np.corrcoef(Res_v_PINN.reshape(-1,),Res_v_fvm.reshape(-1,))"
   ]
  },
  {
   "cell_type": "code",
   "execution_count": null,
   "id": "4a57bf79",
   "metadata": {},
   "outputs": [
    {
     "data": {
      "text/plain": [
       "array([[1.        , 0.89403772],\n",
       "       [0.89403772, 1.        ]])"
      ]
     },
     "execution_count": 23,
     "metadata": {},
     "output_type": "execute_result"
    }
   ],
   "source": [
    "eps_e = eps_e.reshape(12,250,100,order = 'C')\n",
    "eps_e = np.swapaxes(np.swapaxes(eps_e,0,1),1,2)\n",
    "\n",
    "eps_e_fvm = fvm_data['effstrrate']\n",
    "np.corrcoef(eps_e.reshape(-1,),eps_e_fvm.reshape(-1,))"
   ]
  },
  {
   "cell_type": "code",
   "execution_count": null,
   "id": "c3efdf4d",
   "metadata": {},
   "outputs": [
    {
     "name": "stdout",
     "output_type": "stream",
     "text": [
      "RE:  1.591256496056418\n",
      "RMSE:  9.22296692410567\n"
     ]
    }
   ],
   "source": [
    "print(\"RE: \",np.linalg.norm((eps_e-eps_e_fvm).reshape(-1,),2)/np.linalg.norm(eps_e_fvm.reshape(-1,),2))\n",
    "print(\"RMSE: \",np.sqrt(np.mean(np.square(eps_e_fvm[:]-eps_e[:]))))"
   ]
  }
 ],
 "metadata": {
  "kernelspec": {
   "display_name": "Python 3",
   "language": "python",
   "name": "python3"
  },
  "language_info": {
   "codemirror_mode": {
    "name": "ipython",
    "version": 3
   },
   "file_extension": ".py",
   "mimetype": "text/x-python",
   "name": "python",
   "nbconvert_exporter": "python",
   "pygments_lexer": "ipython3",
   "version": "3.9.16"
  }
 },
 "nbformat": 4,
 "nbformat_minor": 5
}
