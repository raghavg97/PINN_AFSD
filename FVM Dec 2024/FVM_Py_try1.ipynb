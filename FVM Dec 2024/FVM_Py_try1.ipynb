{
 "cells": [
  {
   "cell_type": "markdown",
   "metadata": {},
   "source": [
    "**FVM Simple Case 1D Try** \n",
    "\n",
    "\n",
    "$$k\\frac{d^2 T}{dx^2} - Q = 0; x \\in [0,1]$$\n",
    "$$ T(0) = T(1) = 300; Q = 1; k =0.01$$\n"
   ]
  },
  {
   "cell_type": "code",
   "execution_count": null,
   "metadata": {},
   "outputs": [
    {
     "ename": "",
     "evalue": "",
     "output_type": "error",
     "traceback": [
      "\u001b[1;31mRunning cells with '.conda (Python 3.11.11)' requires the ipykernel package.\n",
      "\u001b[1;31mRun the following command to install 'ipykernel' into the Python environment. \n",
      "\u001b[1;31mCommand: 'conda install -p c:\\Users\\rg24o\\Documents\\Research Work\\Python\\.conda ipykernel --update-deps --force-reinstall'"
     ]
    }
   ],
   "source": [
    "import numpy as np\n",
    "\n"
   ]
  },
  {
   "cell_type": "markdown",
   "metadata": {},
   "source": [
    "*FVM Procedure* - \n",
    "\n",
    "Assumptions:\n",
    "1. Q,k are constant - enables doing the integral \n",
    "\n",
    "*e* and *w* stands for east *face* and west *face* respectively (not cell centers) - a typical way to denote right and left cell in 1D FVM\n",
    "\n",
    "$$\\int_w^e k\\frac{d^2 T}{dx^2} dx - \\int_w^e Q dx = 0 $$\n",
    "\n",
    "Eq. (1) considering $Q$ as constant:\n",
    "$$ \\implies k(\\frac{dT}{dx}|_e - \\frac{dT}{dx}|_w) - Q \\times (x_e - x_w) = 0$$ \n",
    "\n",
    "*Taylor Series*\n",
    "$$f(x) = f(a) + \\frac{f^{'}(a)}{1!} (x-a) + \\frac{f^{'}(a)}{2!} (x-a)^2 + ... $$\n",
    "\n",
    "*Substitute $x = x_0 - h$ and $a = x_0$*\n",
    "\n",
    "Eq. (2):\n",
    "$$f(x_0 - h) = f(x_0) + \\frac{f^{'}(x_0)}{1} (-h) + \\frac{f^{'}(x_0)}{2} (-h)^2 + ... $$\n",
    "\n",
    "\n",
    "*Substitute $x = x_0 + h$ and $a = x_0$*\n",
    "\n",
    "Eq. (3):\n",
    "$$f(x_0 + h) = f(x_0) + \\frac{f^{'}(x_0)}{1!} (h) + \\frac{f^{'}(x_0)}{2!} (h)^2 + ... $$\n",
    "\n",
    "\n",
    "Subtract Eq. (2) from Eq.(3); Ignore the higher order terms\n",
    "\n",
    "Eq. (4)\n",
    "\n",
    "$$f(x_0 +h) - f(x_0-h) = 2f^{'}(x_0) h \\implies f^{'}(x_0) = \\frac{f(x_0 +h)-f(x_0 -h)}{2h}$$\n",
    "\n",
    "\n"
   ]
  },
  {
   "cell_type": "markdown",
   "metadata": {},
   "source": [
    "Now substituting Eq. (4) appropriately in Eq. (1)\n",
    "\n",
    "$$ \\implies k(\\frac{T_{i+1}-T_i}{2h} - \\frac{T_i-T_{i-1}}{2h}) - Q \\times (x_e - x_w) = 0$$\n",
    "\n",
    "\n",
    "For any point ***not*** at the boundary,\n",
    "\n",
    "Note $h=\\frac{\\Delta x}{2}$ and $x_e - x_w = \\Delta x$\n",
    "\n",
    "$$\\implies k \\frac{T_{i+1}-2T_i + T_{i-1}}{\\Delta x} - Q \\Delta x = 0$$\n",
    "\n",
    "*Rearranging*\n",
    "$$T_i = \\frac{(T_{i+1} + T_{i-1})}{2} -  \\frac{Q}{2k} (\\Delta x)^2$$\n",
    "\n",
    "\n",
    "For ***left*** boundary, \n"
   ]
  },
  {
   "cell_type": "code",
   "execution_count": null,
   "metadata": {},
   "outputs": [],
   "source": []
  }
 ],
 "metadata": {
  "kernelspec": {
   "display_name": "Python 3",
   "language": "python",
   "name": "python3"
  },
  "language_info": {
   "name": "python",
   "version": "3.11.11"
  }
 },
 "nbformat": 4,
 "nbformat_minor": 2
}
