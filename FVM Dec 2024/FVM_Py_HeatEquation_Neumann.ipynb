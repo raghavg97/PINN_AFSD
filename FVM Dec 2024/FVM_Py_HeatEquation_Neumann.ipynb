{
 "cells": [
  {
   "cell_type": "markdown",
   "metadata": {},
   "source": [
    "**FVM Simple Case 1D With Neumann Boundary on Right Side** \n",
    "\n",
    "\n",
    "$$k\\frac{d^2 T}{dx^2} - Q = 0; x \\in [0,1]$$\n",
    "$$ T(0) = 300; \\frac{dT}{dx}|_{x=1} = c; Q = 1; k =0.01$$\n",
    "\n",
    "True Solution\n",
    "$$T(x) = \\frac{Q}{2k} x^2  + (c - \\frac{Q}{k})x + T_{left}$$"
   ]
  },
  {
   "cell_type": "code",
   "execution_count": 1,
   "metadata": {},
   "outputs": [
    {
     "ename": "ModuleNotFoundError",
     "evalue": "No module named 'numpy'",
     "output_type": "error",
     "traceback": [
      "\u001b[1;31m---------------------------------------------------------------------------\u001b[0m",
      "\u001b[1;31mModuleNotFoundError\u001b[0m                       Traceback (most recent call last)",
      "Cell \u001b[1;32mIn[1], line 1\u001b[0m\n\u001b[1;32m----> 1\u001b[0m \u001b[38;5;28;01mimport\u001b[39;00m\u001b[38;5;250m \u001b[39m\u001b[38;5;21;01mnumpy\u001b[39;00m\u001b[38;5;250m \u001b[39m\u001b[38;5;28;01mas\u001b[39;00m\u001b[38;5;250m \u001b[39m\u001b[38;5;21;01mnp\u001b[39;00m\n",
      "\u001b[1;31mModuleNotFoundError\u001b[0m: No module named 'numpy'"
     ]
    }
   ],
   "source": [
    "import numpy as np"
   ]
  },
  {
   "cell_type": "markdown",
   "metadata": {},
   "source": [
    "*FVM Procedure* - \n",
    "\n",
    "This is an FVM procedure because it starts with the volume integration of the PDE. There are multiple other stupid ways to solve discussed later. \n",
    "\n",
    "Assumptions:\n",
    "1. Q,k are constant - enables doing the integration\n",
    "\n",
    "*e* and *w* stands for east *face* and west *face* respectively (not cell centers) - a typical way to denote right and left cell in 1D FVM\n",
    "\n",
    "$$\\int_w^e k\\frac{d^2 T}{dx^2} dx - \\int_w^e Q dx = 0 $$\n",
    "\n",
    "Eq. (1) considering $Q$ as constant:\n",
    "$$ \\implies k(\\frac{dT}{dx}|_e - \\frac{dT}{dx}|_w) - Q \\times (x_e - x_w) = 0$$ \n",
    "\n",
    "*Taylor Series*\n",
    "$$f(x) = f(a) + \\frac{f^{'}(a)}{1!} (x-a) + \\frac{f^{'}(a)}{2!} (x-a)^2 + ... $$\n",
    "\n",
    "*Substitute $x = x_0 - h$ and $a = x_0$*\n",
    "\n",
    "Eq. (2):\n",
    "$$f(x_0 - h) = f(x_0) + \\frac{f^{'}(x_0)}{1} (-h) + \\frac{f^{'}(x_0)}{2} (-h)^2 + ... $$\n",
    "\n",
    "\n",
    "*Substitute $x = x_0 + h$ and $a = x_0$*\n",
    "\n",
    "Eq. (3):\n",
    "$$f(x_0 + h) = f(x_0) + \\frac{f^{'}(x_0)}{1!} (h) + \\frac{f^{'}(x_0)}{2!} (h)^2 + ... $$\n",
    "\n",
    "\n",
    "Subtract Eq. (2) from Eq.(3); Ignore the higher order terms\n",
    "\n",
    "Eq. (4)\n",
    "\n",
    "$$f(x_0 +h) - f(x_0-h) = 2f^{'}(x_0) h \\implies f^{'}(x_0) = \\frac{f(x_0 +h)-f(x_0 -h)}{2h}$$\n",
    "\n",
    "\n",
    "Now substituting Eq. (4) appropriately in Eq. (1), i.e., choosing $x_0$ as *east face* and *west face* , gives Eq. (5):\n",
    "\n",
    "$$ \\implies k(\\frac{T_{i+1}-T_i}{2h} - \\frac{T_i-T_{i-1}}{2h}) - Q \\times (x_e - x_w) = 0$$"
   ]
  },
  {
   "cell_type": "markdown",
   "metadata": {},
   "source": [
    "\n",
    "\n",
    "\n",
    "For any point ***not*** at the boundary,\n",
    "\n",
    "Note $h=\\frac{\\Delta x}{2}$ and $x_e - x_w = \\Delta x$\n",
    "\n",
    "$$\\implies k \\frac{T_{i+1}-2T_i + T_{i-1}}{\\Delta x} - Q \\Delta x = 0$$\n",
    "\n",
    "*Rearranging*\n",
    "$$T_i = \\frac{(T_{i+1} + T_{i-1})}{2} -  \\frac{Q}{2k} (\\Delta x)^2$$\n",
    "\n"
   ]
  },
  {
   "cell_type": "markdown",
   "metadata": {},
   "source": [
    "For ***left*** boundary, $T_1$ denotes the first cell center.\n",
    "$T_w$ is given as $T_{left}$. \n",
    "\n",
    "Using Eq.(4):\n",
    "\n",
    "$$ f^{'}(x_0) = \\frac{f(x_0 + h) - f(x_0)}{h} $$\n",
    "\n",
    "$$\\implies \\frac{dT}{dx}|_w = \\frac{T_1 - T_{left}}{h}$$\n",
    "\n",
    "Therefore, Eq. (5) becomes\n",
    "\n",
    "$$  k(\\frac{T_{2}-T_1}{2h} - \\frac{T_1-T_{left}}{h}) - Q \\times (x_e - x_w) = 0$$\n",
    "\n",
    "Substituting $h = \\frac{\\Delta x}{2}$\n",
    "\n",
    "$$  k(\\frac{T_2-T_1}{\\Delta x} - \\frac{T_1-T_{left}}{\\frac{\\Delta x}{2}}) - Q \\times \\Delta x = 0$$\n",
    "\n",
    "$$  k(\\frac{T_2-T_1}{\\Delta x} - \\frac{2 \\times (T_1-T_{left})}{\\Delta x}) - Q \\times \\Delta x = 0$$\n",
    "\n",
    "*Rearranging* gives Eq. (6)\n",
    "$$T_1 = \\frac{(T_2 + 2T_{left})}{3} -  \\frac{Q}{3k} (\\Delta x)^2$$\n",
    "\n",
    "\n"
   ]
  },
  {
   "cell_type": "markdown",
   "metadata": {},
   "source": [
    "The derivation must be same till now as pure dirichlet boundary...\n",
    "\n",
    "For ***Neumann on right boundary***\n",
    "\n",
    "Essentially, for the right end cell,\n",
    "$\\frac{dT}{dx}|_e = c$\n",
    "\n",
    "\n",
    "Therefore, Eq. (1) becomes, \n",
    "$$ \\implies k(c - \\frac{dT}{dx}|_w) - Q \\times (x_e - x_w) = 0$$\n",
    "\n",
    "$$ \\frac{dT}{dx}|_w  = \\frac{T_{n} - T_{n-1}}{2h}$$\n",
    "\n",
    "Considering $h = \\frac{\\Delta x}{2}$,\n",
    "\n",
    "$$ k (c - \\frac{T_{n} - T_{n-1}}{\\Delta x}) - Q \\times \\Delta x = 0 $$\n",
    "\n",
    "$$ T_n = c \\Delta x + T_{n-1} - \\frac{Q}{k} (\\Delta x)^2$$"
   ]
  },
  {
   "cell_type": "code",
   "execution_count": null,
   "metadata": {},
   "outputs": [],
   "source": []
  }
 ],
 "metadata": {
  "kernelspec": {
   "display_name": "Python 3",
   "language": "python",
   "name": "python3"
  },
  "language_info": {
   "codemirror_mode": {
    "name": "ipython",
    "version": 3
   },
   "file_extension": ".py",
   "mimetype": "text/x-python",
   "name": "python",
   "nbconvert_exporter": "python",
   "pygments_lexer": "ipython3",
   "version": "3.11.9"
  }
 },
 "nbformat": 4,
 "nbformat_minor": 2
}
